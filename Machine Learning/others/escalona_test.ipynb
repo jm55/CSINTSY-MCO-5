{
 "cells": [
  {
   "cell_type": "markdown",
   "metadata": {},
   "source": [
    "# CSINTSY - Machine Learning Model\n",
    "### Title: Crop Recommendation Model\n",
    "\n",
    "### Members: Cruzada, Escalona, Francisco, Loyola\n",
    "\n",
    "### Section and Group CSINTSY S14 MCO5\n",
    "\n",
    "---\n",
    "\n",
    "## Introduction\n",
    "\n",
    "Lorem ipsum dolor sit amet, consectetur adipiscing elit, sed do eiusmod tempor incididunt ut labore et dolore magna aliqua. Ut enim ad minim veniam, quis nostrud exercitation ullamco laboris nisi ut aliquip ex ea commodo consequat. Duis aute irure dolor in reprehenderit in voluptate velit esse cillum dolore eu fugiat nulla pariatur. Excepteur sint occaecat cupidatat non proident, sunt in culpa qui officia deserunt mollit anim id est laborum.\n",
    "\n",
    "## Dataset\n",
    "\n",
    "Lorem ipsum dolor sit amet, consectetur adipiscing elit, sed do eiusmod tempor incididunt ut labore et dolore magna aliqua. Ut enim ad minim veniam, quis nostrud exercitation ullamco laboris nisi ut aliquip ex ea commodo consequat. Duis aute irure dolor in reprehenderit in voluptate velit esse cillum dolore eu fugiat nulla pariatur. Excepteur sint occaecat cupidatat non proident, sunt in culpa qui officia deserunt mollit anim id est laborum.\n",
    "\n",
    "## ML Methods used\n",
    "\n",
    "Lorem ipsum dolor sit amet, consectetur adipiscing elit, sed do eiusmod tempor incididunt ut labore et dolore magna aliqua. Ut enim ad minim veniam, quis nostrud exercitation ullamco laboris nisi ut aliquip ex ea commodo consequat. Duis aute irure dolor in reprehenderit in voluptate velit esse cillum dolore eu fugiat nulla pariatur. Excepteur sint occaecat cupidatat non proident, sunt in culpa qui officia deserunt mollit anim id est laborum.\n",
    "\n",
    "## References\n",
    "\n",
    "Lorem ipsum dolor sit amet, consectetur adipiscing elit, sed do eiusmod tempor incididunt ut labore et dolore magna aliqua. Ut enim ad minim veniam, quis nostrud exercitation ullamco laboris nisi ut aliquip ex ea commodo consequat. Duis aute irure dolor in reprehenderit in voluptate velit esse cillum dolore eu fugiat nulla pariatur. Excepteur sint occaecat cupidatat non proident, sunt in culpa qui officia deserunt mollit anim id est laborum."
   ]
  },
  {
   "cell_type": "markdown",
   "metadata": {},
   "source": [
    "# Experiment Proper"
   ]
  },
  {
   "cell_type": "markdown",
   "metadata": {},
   "source": [
    "## 1. Importation and cleaning of data."
   ]
  },
  {
   "cell_type": "markdown",
   "metadata": {},
   "source": [
    "### 1.1 Import necessary libraries"
   ]
  },
  {
   "cell_type": "code",
   "execution_count": 1,
   "metadata": {},
   "outputs": [],
   "source": [
    "import numpy as np\n",
    "import pandas as pd\n",
    "from sklearn.neighbors import KNeighborsClassifier"
   ]
  },
  {
   "cell_type": "markdown",
   "metadata": {},
   "source": [
    "### 1.2 Load Raw Data\n",
    "\n",
    "The training data shows 8 unique columns which represent certain parameters. With the exception of the `label` parameter, these parameters are the environmental variables that are required in the growth of a certain crop which are the levels of `nitrogen`, `phosphorus`, `potassium`, `temperature` (in C), `humidity`, `ph`, and `rainfall`."
   ]
  },
  {
   "cell_type": "code",
   "execution_count": 2,
   "metadata": {
    "scrolled": true
   },
   "outputs": [
    {
     "data": {
      "text/html": [
       "<div>\n",
       "<style scoped>\n",
       "    .dataframe tbody tr th:only-of-type {\n",
       "        vertical-align: middle;\n",
       "    }\n",
       "\n",
       "    .dataframe tbody tr th {\n",
       "        vertical-align: top;\n",
       "    }\n",
       "\n",
       "    .dataframe thead th {\n",
       "        text-align: right;\n",
       "    }\n",
       "</style>\n",
       "<table border=\"1\" class=\"dataframe\">\n",
       "  <thead>\n",
       "    <tr style=\"text-align: right;\">\n",
       "      <th></th>\n",
       "      <th>nitrogen</th>\n",
       "      <th>phosphorus</th>\n",
       "      <th>potassium</th>\n",
       "      <th>temperature</th>\n",
       "      <th>humidity</th>\n",
       "      <th>ph</th>\n",
       "      <th>rainfall</th>\n",
       "      <th>label</th>\n",
       "    </tr>\n",
       "  </thead>\n",
       "  <tbody>\n",
       "    <tr>\n",
       "      <th>0</th>\n",
       "      <td>90</td>\n",
       "      <td>42</td>\n",
       "      <td>43</td>\n",
       "      <td>20.879744</td>\n",
       "      <td>82.002744</td>\n",
       "      <td>6.502985</td>\n",
       "      <td>202.935536</td>\n",
       "      <td>rice</td>\n",
       "    </tr>\n",
       "    <tr>\n",
       "      <th>1</th>\n",
       "      <td>85</td>\n",
       "      <td>58</td>\n",
       "      <td>41</td>\n",
       "      <td>21.770462</td>\n",
       "      <td>80.319644</td>\n",
       "      <td>7.038096</td>\n",
       "      <td>226.655537</td>\n",
       "      <td>rice</td>\n",
       "    </tr>\n",
       "    <tr>\n",
       "      <th>2</th>\n",
       "      <td>60</td>\n",
       "      <td>55</td>\n",
       "      <td>44</td>\n",
       "      <td>23.004459</td>\n",
       "      <td>82.320763</td>\n",
       "      <td>7.840207</td>\n",
       "      <td>263.964248</td>\n",
       "      <td>rice</td>\n",
       "    </tr>\n",
       "    <tr>\n",
       "      <th>3</th>\n",
       "      <td>74</td>\n",
       "      <td>35</td>\n",
       "      <td>40</td>\n",
       "      <td>26.491096</td>\n",
       "      <td>80.158363</td>\n",
       "      <td>6.980401</td>\n",
       "      <td>242.864034</td>\n",
       "      <td>rice</td>\n",
       "    </tr>\n",
       "    <tr>\n",
       "      <th>4</th>\n",
       "      <td>78</td>\n",
       "      <td>42</td>\n",
       "      <td>42</td>\n",
       "      <td>20.130175</td>\n",
       "      <td>81.604873</td>\n",
       "      <td>7.628473</td>\n",
       "      <td>262.717340</td>\n",
       "      <td>rice</td>\n",
       "    </tr>\n",
       "    <tr>\n",
       "      <th>...</th>\n",
       "      <td>...</td>\n",
       "      <td>...</td>\n",
       "      <td>...</td>\n",
       "      <td>...</td>\n",
       "      <td>...</td>\n",
       "      <td>...</td>\n",
       "      <td>...</td>\n",
       "      <td>...</td>\n",
       "    </tr>\n",
       "    <tr>\n",
       "      <th>2195</th>\n",
       "      <td>107</td>\n",
       "      <td>34</td>\n",
       "      <td>32</td>\n",
       "      <td>26.774637</td>\n",
       "      <td>66.413269</td>\n",
       "      <td>6.780064</td>\n",
       "      <td>177.774507</td>\n",
       "      <td>coffee</td>\n",
       "    </tr>\n",
       "    <tr>\n",
       "      <th>2196</th>\n",
       "      <td>99</td>\n",
       "      <td>15</td>\n",
       "      <td>27</td>\n",
       "      <td>27.417112</td>\n",
       "      <td>56.636362</td>\n",
       "      <td>6.086922</td>\n",
       "      <td>127.924610</td>\n",
       "      <td>coffee</td>\n",
       "    </tr>\n",
       "    <tr>\n",
       "      <th>2197</th>\n",
       "      <td>118</td>\n",
       "      <td>33</td>\n",
       "      <td>30</td>\n",
       "      <td>24.131797</td>\n",
       "      <td>67.225123</td>\n",
       "      <td>6.362608</td>\n",
       "      <td>173.322839</td>\n",
       "      <td>coffee</td>\n",
       "    </tr>\n",
       "    <tr>\n",
       "      <th>2198</th>\n",
       "      <td>117</td>\n",
       "      <td>32</td>\n",
       "      <td>34</td>\n",
       "      <td>26.272418</td>\n",
       "      <td>52.127394</td>\n",
       "      <td>6.758793</td>\n",
       "      <td>127.175293</td>\n",
       "      <td>coffee</td>\n",
       "    </tr>\n",
       "    <tr>\n",
       "      <th>2199</th>\n",
       "      <td>104</td>\n",
       "      <td>18</td>\n",
       "      <td>30</td>\n",
       "      <td>23.603016</td>\n",
       "      <td>60.396475</td>\n",
       "      <td>6.779833</td>\n",
       "      <td>140.937041</td>\n",
       "      <td>coffee</td>\n",
       "    </tr>\n",
       "  </tbody>\n",
       "</table>\n",
       "<p>2200 rows × 8 columns</p>\n",
       "</div>"
      ],
      "text/plain": [
       "      nitrogen  phosphorus  potassium  temperature   humidity        ph  \\\n",
       "0           90          42         43    20.879744  82.002744  6.502985   \n",
       "1           85          58         41    21.770462  80.319644  7.038096   \n",
       "2           60          55         44    23.004459  82.320763  7.840207   \n",
       "3           74          35         40    26.491096  80.158363  6.980401   \n",
       "4           78          42         42    20.130175  81.604873  7.628473   \n",
       "...        ...         ...        ...          ...        ...       ...   \n",
       "2195       107          34         32    26.774637  66.413269  6.780064   \n",
       "2196        99          15         27    27.417112  56.636362  6.086922   \n",
       "2197       118          33         30    24.131797  67.225123  6.362608   \n",
       "2198       117          32         34    26.272418  52.127394  6.758793   \n",
       "2199       104          18         30    23.603016  60.396475  6.779833   \n",
       "\n",
       "        rainfall   label  \n",
       "0     202.935536    rice  \n",
       "1     226.655537    rice  \n",
       "2     263.964248    rice  \n",
       "3     242.864034    rice  \n",
       "4     262.717340    rice  \n",
       "...          ...     ...  \n",
       "2195  177.774507  coffee  \n",
       "2196  127.924610  coffee  \n",
       "2197  173.322839  coffee  \n",
       "2198  127.175293  coffee  \n",
       "2199  140.937041  coffee  \n",
       "\n",
       "[2200 rows x 8 columns]"
      ]
     },
     "execution_count": 2,
     "metadata": {},
     "output_type": "execute_result"
    }
   ],
   "source": [
    "# Load Training data\n",
    "crops_df = pd.read_csv('crops_dataset.csv')\n",
    "crops_df"
   ]
  },
  {
   "cell_type": "markdown",
   "metadata": {},
   "source": [
    "#### 1.2.1 Determine Features"
   ]
  },
  {
   "cell_type": "code",
   "execution_count": 3,
   "metadata": {},
   "outputs": [
    {
     "data": {
      "text/plain": [
       "['nitrogen',\n",
       " 'phosphorus',\n",
       " 'potassium',\n",
       " 'temperature',\n",
       " 'humidity',\n",
       " 'ph',\n",
       " 'rainfall']"
      ]
     },
     "execution_count": 3,
     "metadata": {},
     "output_type": "execute_result"
    }
   ],
   "source": [
    "FEATURES = crops_df.keys().tolist()[0:-1]\n",
    "FEATURES"
   ]
  },
  {
   "cell_type": "markdown",
   "metadata": {},
   "source": [
    "#### 1.2.2 Determine Unique Crop Labels"
   ]
  },
  {
   "cell_type": "code",
   "execution_count": 4,
   "metadata": {
    "scrolled": false
   },
   "outputs": [
    {
     "name": "stdout",
     "output_type": "stream",
     "text": [
      "No. of unique crop labels:  23\n",
      "['rice' 'rice`' 'maize' 'chickpea' 'kidneybeans' 'pigeonpeas' 'mothbeans'\n",
      " 'mungbean' 'blackgram' 'lentil' 'pomegranate' 'banana' 'mango' 'grapes'\n",
      " 'watermelon' 'muskmelon' 'apple' 'orange' 'papaya' 'coconut' 'cotton'\n",
      " 'jute' 'coffee']\n"
     ]
    }
   ],
   "source": [
    "#Determine the list of unique crops\n",
    "labels = crops_df[\"label\"].unique()\n",
    "print(\"No. of unique crop labels: \", labels.size)\n",
    "print(labels)"
   ]
  },
  {
   "cell_type": "markdown",
   "metadata": {},
   "source": [
    "### 1.3 Divide Training Data from Test Data\n",
    "\n",
    "With a original dataset having 2200 rows or data points, it is possible to retrive at most 200 test samples to be used for testing with the remaining 2000 for training."
   ]
  },
  {
   "cell_type": "code",
   "execution_count": 5,
   "metadata": {},
   "outputs": [],
   "source": [
    "random_seed = 1 #Prevents the test_data from being 'too random' on different runtimes.\n",
    "test_data = crops_df.sample(n=200, random_state=random_seed)\n",
    "training_data = pd.concat([crops_df,test_data]).drop_duplicates(keep=False)"
   ]
  },
  {
   "cell_type": "markdown",
   "metadata": {},
   "source": [
    "## 2. Use of Machine Learning"
   ]
  },
  {
   "cell_type": "markdown",
   "metadata": {},
   "source": [
    "### 2.1 K Neighbor Clustering\n",
    "\n",
    "**<< A brief explanation of K Neighbor Clustering >>**"
   ]
  },
  {
   "cell_type": "markdown",
   "metadata": {},
   "source": [
    "#### 2.1.1 Loading Training and Test Data\n",
    "\n",
    "Create separate copies of training and test data for exclusive use of K Neighbor cluster"
   ]
  },
  {
   "cell_type": "code",
   "execution_count": 6,
   "metadata": {
    "scrolled": true
   },
   "outputs": [],
   "source": [
    "#Load training data\n",
    "kn_training = training_data\n",
    "\n",
    "# Load test data\n",
    "kn_test = test_data"
   ]
  },
  {
   "cell_type": "markdown",
   "metadata": {},
   "source": [
    "#### 2.1.2 Loading K Neighbors Classifier"
   ]
  },
  {
   "cell_type": "code",
   "execution_count": 7,
   "metadata": {},
   "outputs": [
    {
     "data": {
      "text/plain": [
       "KNeighborsClassifier(n_neighbors=3)"
      ]
     },
     "execution_count": 7,
     "metadata": {},
     "output_type": "execute_result"
    }
   ],
   "source": [
    "# Using the features, define what type of crop it is\n",
    "x = kn_training[FEATURES].copy()\n",
    "y = kn_training['label']\n",
    "\n",
    "knn = KNeighborsClassifier(n_neighbors=3) #Uses number of labels\n",
    "knn.fit(x,y)"
   ]
  },
  {
   "cell_type": "markdown",
   "metadata": {},
   "source": [
    "#### 2.1.3 Test Predictions"
   ]
  },
  {
   "cell_type": "code",
   "execution_count": 8,
   "metadata": {
    "scrolled": true
   },
   "outputs": [
    {
     "name": "stderr",
     "output_type": "stream",
     "text": [
      "C:\\Users\\ejose\\anaconda3\\lib\\site-packages\\sklearn\\neighbors\\_classification.py:228: FutureWarning: Unlike other reduction functions (e.g. `skew`, `kurtosis`), the default behavior of `mode` typically preserves the axis it acts along. In SciPy 1.11.0, this behavior will change: the default value of `keepdims` will become False, the `axis` over which the statistic is taken will be eliminated, and the value None will no longer be accepted. Set `keepdims` to True or False to avoid this warning.\n",
      "  mode, _ = stats.mode(_y[neigh_ind, k], axis=1)\n"
     ]
    },
    {
     "data": {
      "text/html": [
       "<div>\n",
       "<style scoped>\n",
       "    .dataframe tbody tr th:only-of-type {\n",
       "        vertical-align: middle;\n",
       "    }\n",
       "\n",
       "    .dataframe tbody tr th {\n",
       "        vertical-align: top;\n",
       "    }\n",
       "\n",
       "    .dataframe thead th {\n",
       "        text-align: right;\n",
       "    }\n",
       "</style>\n",
       "<table border=\"1\" class=\"dataframe\">\n",
       "  <thead>\n",
       "    <tr style=\"text-align: right;\">\n",
       "      <th></th>\n",
       "      <th>nitrogen</th>\n",
       "      <th>phosphorus</th>\n",
       "      <th>potassium</th>\n",
       "      <th>temperature</th>\n",
       "      <th>humidity</th>\n",
       "      <th>ph</th>\n",
       "      <th>rainfall</th>\n",
       "      <th>label</th>\n",
       "      <th>prediction</th>\n",
       "    </tr>\n",
       "  </thead>\n",
       "  <tbody>\n",
       "    <tr>\n",
       "      <th>1276</th>\n",
       "      <td>25</td>\n",
       "      <td>129</td>\n",
       "      <td>195</td>\n",
       "      <td>17.986678</td>\n",
       "      <td>81.177121</td>\n",
       "      <td>5.777271</td>\n",
       "      <td>72.371277</td>\n",
       "      <td>grapes</td>\n",
       "      <td>grapes</td>\n",
       "    </tr>\n",
       "    <tr>\n",
       "      <th>1446</th>\n",
       "      <td>106</td>\n",
       "      <td>20</td>\n",
       "      <td>51</td>\n",
       "      <td>29.730197</td>\n",
       "      <td>90.970157</td>\n",
       "      <td>6.342573</td>\n",
       "      <td>20.490356</td>\n",
       "      <td>muskmelon</td>\n",
       "      <td>muskmelon</td>\n",
       "    </tr>\n",
       "    <tr>\n",
       "      <th>335</th>\n",
       "      <td>33</td>\n",
       "      <td>59</td>\n",
       "      <td>22</td>\n",
       "      <td>22.642369</td>\n",
       "      <td>21.593961</td>\n",
       "      <td>5.947000</td>\n",
       "      <td>122.388601</td>\n",
       "      <td>kidneybeans</td>\n",
       "      <td>kidneybeans</td>\n",
       "    </tr>\n",
       "    <tr>\n",
       "      <th>1458</th>\n",
       "      <td>89</td>\n",
       "      <td>9</td>\n",
       "      <td>47</td>\n",
       "      <td>29.471563</td>\n",
       "      <td>90.770696</td>\n",
       "      <td>6.668383</td>\n",
       "      <td>28.752261</td>\n",
       "      <td>muskmelon</td>\n",
       "      <td>muskmelon</td>\n",
       "    </tr>\n",
       "    <tr>\n",
       "      <th>2038</th>\n",
       "      <td>62</td>\n",
       "      <td>49</td>\n",
       "      <td>37</td>\n",
       "      <td>24.217446</td>\n",
       "      <td>82.852840</td>\n",
       "      <td>7.479248</td>\n",
       "      <td>166.136589</td>\n",
       "      <td>jute</td>\n",
       "      <td>jute</td>\n",
       "    </tr>\n",
       "    <tr>\n",
       "      <th>...</th>\n",
       "      <td>...</td>\n",
       "      <td>...</td>\n",
       "      <td>...</td>\n",
       "      <td>...</td>\n",
       "      <td>...</td>\n",
       "      <td>...</td>\n",
       "      <td>...</td>\n",
       "      <td>...</td>\n",
       "      <td>...</td>\n",
       "    </tr>\n",
       "    <tr>\n",
       "      <th>614</th>\n",
       "      <td>21</td>\n",
       "      <td>38</td>\n",
       "      <td>21</td>\n",
       "      <td>29.755389</td>\n",
       "      <td>86.451933</td>\n",
       "      <td>6.637677</td>\n",
       "      <td>37.546027</td>\n",
       "      <td>mungbean</td>\n",
       "      <td>mungbean</td>\n",
       "    </tr>\n",
       "    <tr>\n",
       "      <th>885</th>\n",
       "      <td>28</td>\n",
       "      <td>67</td>\n",
       "      <td>21</td>\n",
       "      <td>21.797926</td>\n",
       "      <td>63.730861</td>\n",
       "      <td>6.250994</td>\n",
       "      <td>46.623702</td>\n",
       "      <td>lentil</td>\n",
       "      <td>lentil</td>\n",
       "    </tr>\n",
       "    <tr>\n",
       "      <th>1259</th>\n",
       "      <td>17</td>\n",
       "      <td>136</td>\n",
       "      <td>195</td>\n",
       "      <td>41.207336</td>\n",
       "      <td>81.610510</td>\n",
       "      <td>6.389783</td>\n",
       "      <td>65.902275</td>\n",
       "      <td>grapes</td>\n",
       "      <td>grapes</td>\n",
       "    </tr>\n",
       "    <tr>\n",
       "      <th>2067</th>\n",
       "      <td>66</td>\n",
       "      <td>58</td>\n",
       "      <td>35</td>\n",
       "      <td>23.564383</td>\n",
       "      <td>79.462831</td>\n",
       "      <td>7.321619</td>\n",
       "      <td>185.259470</td>\n",
       "      <td>jute</td>\n",
       "      <td>jute</td>\n",
       "    </tr>\n",
       "    <tr>\n",
       "      <th>47</th>\n",
       "      <td>74</td>\n",
       "      <td>39</td>\n",
       "      <td>38</td>\n",
       "      <td>23.241135</td>\n",
       "      <td>84.592018</td>\n",
       "      <td>7.782051</td>\n",
       "      <td>233.045345</td>\n",
       "      <td>rice</td>\n",
       "      <td>rice</td>\n",
       "    </tr>\n",
       "  </tbody>\n",
       "</table>\n",
       "<p>200 rows × 9 columns</p>\n",
       "</div>"
      ],
      "text/plain": [
       "      nitrogen  phosphorus  potassium  temperature   humidity        ph  \\\n",
       "1276        25         129        195    17.986678  81.177121  5.777271   \n",
       "1446       106          20         51    29.730197  90.970157  6.342573   \n",
       "335         33          59         22    22.642369  21.593961  5.947000   \n",
       "1458        89           9         47    29.471563  90.770696  6.668383   \n",
       "2038        62          49         37    24.217446  82.852840  7.479248   \n",
       "...        ...         ...        ...          ...        ...       ...   \n",
       "614         21          38         21    29.755389  86.451933  6.637677   \n",
       "885         28          67         21    21.797926  63.730861  6.250994   \n",
       "1259        17         136        195    41.207336  81.610510  6.389783   \n",
       "2067        66          58         35    23.564383  79.462831  7.321619   \n",
       "47          74          39         38    23.241135  84.592018  7.782051   \n",
       "\n",
       "        rainfall        label   prediction  \n",
       "1276   72.371277       grapes       grapes  \n",
       "1446   20.490356    muskmelon    muskmelon  \n",
       "335   122.388601  kidneybeans  kidneybeans  \n",
       "1458   28.752261    muskmelon    muskmelon  \n",
       "2038  166.136589         jute         jute  \n",
       "...          ...          ...          ...  \n",
       "614    37.546027     mungbean     mungbean  \n",
       "885    46.623702       lentil       lentil  \n",
       "1259   65.902275       grapes       grapes  \n",
       "2067  185.259470         jute         jute  \n",
       "47    233.045345         rice         rice  \n",
       "\n",
       "[200 rows x 9 columns]"
      ]
     },
     "execution_count": 8,
     "metadata": {},
     "output_type": "execute_result"
    }
   ],
   "source": [
    "# The prediction column shows the prediction of the K Neighbor algo\n",
    "kn_test['prediction'] = knn.predict(kn_test[FEATURES])\n",
    "kn_test"
   ]
  },
  {
   "cell_type": "markdown",
   "metadata": {},
   "source": [
    "#### 2.1.4 Check Predictions"
   ]
  },
  {
   "cell_type": "code",
   "execution_count": 9,
   "metadata": {},
   "outputs": [
    {
     "name": "stdout",
     "output_type": "stream",
     "text": [
      "Correct Predictions: 199/200 (0.99)\n"
     ]
    }
   ],
   "source": [
    "#Count the number of correctly labelled predictions\n",
    "count = 0\n",
    "for index, row in kn_test.iterrows():\n",
    "    if row['label'] == row['prediction']:\n",
    "        count += 1\n",
    "print(\"Correct Predictions: {count:d}/{total:d} ({rate:.2f})\".format(count=count, total=len(kn_test), rate=count/len(kn_test)))"
   ]
  },
  {
   "cell_type": "markdown",
   "metadata": {},
   "source": [
    "Comparing different of neighbors, the rate of correct predictions is still around >95% accurate. The table below contains the different values for neighbors and its respective accuracy rate.\n",
    "\n",
    "| Neighbors | Accuracy Rate |   |   |   |\n",
    "|-----------|---------------|---|---|---|\n",
    "| 1         | 0.97          |   |   |   |\n",
    "| 2         | 0.99          |   |   |   |\n",
    "| 3         | 0.99          |   |   |   |\n",
    "| 4         | 0.98          |   |   |   |\n",
    "| 6         | 0.98          |   |   |   |\n",
    "| 10        | 0.98          |   |   |   |\n",
    "| 15        | 0.97          |   |   |   |\n",
    "| 18        | 0.98          |   |   |   |\n",
    "| 20        | 0.97          |   |   |   |\n",
    "| 23        | 0.97          |   |   |   |"
   ]
  }
 ],
 "metadata": {
  "kernelspec": {
   "display_name": "Python 3 (ipykernel)",
   "language": "python",
   "name": "python3"
  },
  "language_info": {
   "codemirror_mode": {
    "name": "ipython",
    "version": 3
   },
   "file_extension": ".py",
   "mimetype": "text/x-python",
   "name": "python",
   "nbconvert_exporter": "python",
   "pygments_lexer": "ipython3",
   "version": "3.9.13"
  }
 },
 "nbformat": 4,
 "nbformat_minor": 2
}
